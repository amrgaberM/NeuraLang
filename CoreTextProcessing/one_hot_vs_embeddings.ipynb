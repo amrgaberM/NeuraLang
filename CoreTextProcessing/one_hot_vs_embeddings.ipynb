{
  "nbformat": 4,
  "nbformat_minor": 0,
  "metadata": {
    "colab": {
      "provenance": []
    },
    "kernelspec": {
      "name": "python3",
      "display_name": "Python 3"
    },
    "language_info": {
      "name": "python"
    }
  },
  "cells": [
    {
      "cell_type": "code",
      "execution_count": 1,
      "metadata": {
        "colab": {
          "base_uri": "https://localhost:8080/"
        },
        "id": "6o1cNnZ01yFd",
        "outputId": "fddb4a36-50a7-4e30-943d-6e4114bd148e"
      },
      "outputs": [
        {
          "output_type": "stream",
          "name": "stdout",
          "text": [
            "Cloning into '/content/NeuraLang'...\n",
            "remote: Enumerating objects: 28, done.\u001b[K\n",
            "remote: Counting objects: 100% (28/28), done.\u001b[K\n",
            "remote: Compressing objects: 100% (22/22), done.\u001b[K\n",
            "remote: Total 28 (delta 3), reused 14 (delta 0), pack-reused 0 (from 0)\u001b[K\n",
            "Receiving objects: 100% (28/28), 16.41 KiB | 8.21 MiB/s, done.\n",
            "Resolving deltas: 100% (3/3), done.\n",
            "/bin/bash: line 1: !git: command not found\n",
            "/content/NeuraLang\n",
            "Data files: ['sentiment_data.py', 'corpus.py', 'translation_pairs.py', 'qa_pairs.py']\n"
          ]
        }
      ],
      "source": [
        "# 1. Clone your GitHub repo (or pull updates if already cloned)\n",
        "!git clone https://github.com/amrgaberM/NeuraLang /content/NeuraLang || cd /content/NeuraLang && !git pull\n",
        "\n",
        "# 2. Navigate into the repo\n",
        "%cd /content/NeuraLang\n",
        "\n",
        "# 3. Add utils folder to Python path for imports\n",
        "import sys\n",
        "sys.path.append('/content/NeuraLang/utils')\n",
        "\n",
        "# 4. Verify data folder contents\n",
        "import os\n",
        "data_folder = '/content/NeuraLang/data'\n",
        "print(\"Data files:\", os.listdir(data_folder))\n"
      ]
    },
    {
      "cell_type": "code",
      "source": [
        "from utils.data_preprocessing import clean_text,tokenize\n",
        "from data.corpus import raw_corpus"
      ],
      "metadata": {
        "id": "UyXcnuG53760"
      },
      "execution_count": 2,
      "outputs": []
    },
    {
      "cell_type": "code",
      "source": [
        "import pandas as pd\n",
        "\n",
        "def ohe(documents):\n",
        "    # Step 1: Build vocab from all documents\n",
        "    all_words = []\n",
        "    for doc in documents:\n",
        "        cleaned = clean_text(doc)\n",
        "        tokens = tokenize(cleaned)\n",
        "        all_words.extend(tokens)\n",
        "\n",
        "    vocab = sorted(set(all_words))\n",
        "\n",
        "    # Step 2: Create DataFrame with vocab as columns\n",
        "    df = pd.DataFrame(columns=vocab)\n",
        "\n",
        "    # Step 3: Encode each document\n",
        "    for i, doc in enumerate(documents):\n",
        "        cleaned = clean_text(doc)\n",
        "        tokens = set(tokenize(cleaned))\n",
        "        row = [1 if word in tokens else 0 for word in vocab]\n",
        "        df.loc[i] = row\n",
        "\n",
        "    return df"
      ],
      "metadata": {
        "id": "15iZacmo-pBX"
      },
      "execution_count": 3,
      "outputs": []
    },
    {
      "cell_type": "code",
      "source": [
        "result = ohe(raw_corpus)\n",
        "print(result)"
      ],
      "metadata": {
        "colab": {
          "base_uri": "https://localhost:8080/"
        },
        "id": "U5yCYuFnD3wa",
        "outputId": "0ce0a0d6-01d9-45cc-bb08-39cd23af69fb"
      },
      "execution_count": 4,
      "outputs": [
        {
          "output_type": "stream",
          "name": "stdout",
          "text": [
            "    a  abbreviations  about  allcaps  alllowercase  also  and  another  \\\n",
            "0   0              0      0        0             0     0    0        0   \n",
            "1   0              0      0        0             0     0    0        1   \n",
            "2   1              0      0        0             0     0    1        0   \n",
            "3   0              0      0        0             0     0    0        0   \n",
            "4   0              0      0        0             0     1    0        0   \n",
            "5   0              0      0        0             0     0    0        0   \n",
            "6   0              0      0        0             0     0    0        0   \n",
            "7   0              0      0        0             0     0    1        0   \n",
            "8   0              0      0        0             0     0    1        0   \n",
            "9   0              0      0        0             0     0    1        0   \n",
            "10  0              0      0        0             0     0    0        0   \n",
            "11  0              0      0        0             0     1    1        0   \n",
            "12  0              0      0        0             0     0    0        0   \n",
            "13  0              0      0        0             0     0    1        0   \n",
            "14  0              0      0        0             0     0    1        0   \n",
            "15  0              0      0        0             0     0    0        0   \n",
            "16  0              0      1        0             0     0    1        0   \n",
            "17  0              0      0        0             0     0    0        0   \n",
            "18  0              0      0        0             0     0    0        0   \n",
            "19  0              1      0        0             0     0    0        0   \n",
            "20  0              0      0        1             0     0    0        0   \n",
            "21  0              0      0        0             1     0    0        0   \n",
            "22  0              0      0        0             0     0    1        0   \n",
            "23  0              0      0        0             0     0    0        0   \n",
            "24  0              0      0        0             0     0    0        0   \n",
            "\n",
            "    appear  are  ...  url  urls  us  username  what  with  wont  words  yes  \\\n",
            "0        0    0  ...    0     0   0         0     0     0     0      0    0   \n",
            "1        0    0  ...    0     0   0         0     0     1     0      0    0   \n",
            "2        0    0  ...    0     0   0         0     0     0     0      0    0   \n",
            "3        0    0  ...    0     0   0         0     0     0     0      0    0   \n",
            "4        0    0  ...    0     0   0         0     0     0     0      0    0   \n",
            "5        0    0  ...    0     0   0         0     0     0     0      0    0   \n",
            "6        0    0  ...    0     0   0         0     0     0     0      0    0   \n",
            "7        1    0  ...    0     0   0         0     0     0     0      0    0   \n",
            "8        0    0  ...    0     0   0         0     0     0     0      1    0   \n",
            "9        0    0  ...    0     0   0         0     0     0     1      0    0   \n",
            "10       0    0  ...    0     0   0         0     0     0     0      0    1   \n",
            "11       0    1  ...    0     0   0         0     0     0     0      0    0   \n",
            "12       1    0  ...    0     0   0         0     0     0     0      0    0   \n",
            "13       0    1  ...    0     0   0         0     0     0     0      0    0   \n",
            "14       1    0  ...    0     0   0         0     0     0     0      0    0   \n",
            "15       0    1  ...    1     1   0         0     0     0     0      0    0   \n",
            "16       0    0  ...    0     0   0         0     1     0     0      0    0   \n",
            "17       0    0  ...    0     0   0         0     0     0     0      0    0   \n",
            "18       0    0  ...    0     0   0         1     0     0     0      0    0   \n",
            "19       0    0  ...    0     0   0         0     0     0     0      0    0   \n",
            "20       0    0  ...    0     0   0         0     0     0     0      0    0   \n",
            "21       0    0  ...    0     0   0         0     0     0     0      0    0   \n",
            "22       0    0  ...    0     0   0         0     0     0     0      0    0   \n",
            "23       0    0  ...    0     0   0         0     0     0     0      1    0   \n",
            "24       0    0  ...    0     0   1         0     0     0     0      0    0   \n",
            "\n",
            "    you  \n",
            "0     0  \n",
            "1     0  \n",
            "2     0  \n",
            "3     0  \n",
            "4     1  \n",
            "5     0  \n",
            "6     0  \n",
            "7     0  \n",
            "8     0  \n",
            "9     0  \n",
            "10    0  \n",
            "11    0  \n",
            "12    0  \n",
            "13    0  \n",
            "14    0  \n",
            "15    0  \n",
            "16    0  \n",
            "17    0  \n",
            "18    0  \n",
            "19    0  \n",
            "20    0  \n",
            "21    0  \n",
            "22    0  \n",
            "23    0  \n",
            "24    0  \n",
            "\n",
            "[25 rows x 104 columns]\n"
          ]
        }
      ]
    },
    {
      "cell_type": "code",
      "source": [],
      "metadata": {
        "id": "fShiqJtTEFKU"
      },
      "execution_count": null,
      "outputs": []
    }
  ]
}